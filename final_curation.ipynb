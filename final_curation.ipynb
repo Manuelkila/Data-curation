{
 "cells": [
  {
   "cell_type": "code",
   "execution_count": 1,
   "metadata": {},
   "outputs": [],
   "source": [
    "#impot libraries\n",
    "import pandas as pd\n",
    "from requests import get\n",
    "from time import sleep\n",
    "from random import randint\n",
    "from selenium import webdriver\n",
    "import numpy as np\n",
    "from bs4 import BeautifulSoup"
   ]
  },
  {
   "cell_type": "code",
   "execution_count": 2,
   "metadata": {},
   "outputs": [],
   "source": [
    "#Main url that contains all the books and links to different book categories\n",
    "books_url = 'https://www.amazon.com/s?i=stripbooks&bbn=283155&rh=n%3A283155&s=review-count-rank&dc&Adv-Srch-Books-Submit.x=30&Adv-Srch-Books-Submit.y=21&qid=1602339864&unfiltered=1&ref=sr_ex_n_1'"
   ]
  },
  {
   "cell_type": "code",
   "execution_count": 3,
   "metadata": {},
   "outputs": [],
   "source": [
    "#Here, we want to get the link for all categories\n",
    "driver = webdriver.Chrome(\"C:/Users/MAINGATE/Downloads/chromedriver_win32/chromedriver.exe\")\n",
    "driver.get(books_url)\n",
    "sleep(randint(5,15))\n",
    "soup = BeautifulSoup(driver.page_source, 'html.parser')\n",
    "category_urls = [item.get(\"href\") for item in soup.find_all(\"a\")]\n",
    "\n",
    "#Remove duplicates and none values\n",
    "urls = list(dict.fromkeys(category_urls))\n",
    "urls = list(filter(None, urls)) "
   ]
  },
  {
   "cell_type": "code",
   "execution_count": 4,
   "metadata": {},
   "outputs": [],
   "source": [
    "#Get all the links that starts with '/s?i=stripbooks'\n",
    "urls = [x for x in urls if x.startswith('/s?i=stripbooks')]\n",
    "\n",
    "#Remove all links that ends with ''browse-bin_1''\n",
    "urls = [x for x in urls if not x.endswith('browse-bin_1')]\n",
    "#prefixes =  ('sr_pg_1', 'sr_pg_2','sr_pg_3')\n",
    "   # url_final = [x for x in url_final if x.endswith(prefixes)]\n",
    "\n",
    "#to make sure the links mirrors the original link, we need to add the main to amazon website to all sublinks gotten from the html source code \n",
    "string = 'https://www.amazon.com/'\n",
    "final_list=[string + s for s in urls]\n",
    "\n",
    "    "
   ]
  },
  {
   "cell_type": "code",
   "execution_count": 5,
   "metadata": {},
   "outputs": [
    {
     "data": {
      "text/plain": [
       "['https://www.amazon.com//s?i=stripbooks&bbn=1000&rh=n%3A283155%2Cn%3A1&s=review-count-rank&dc&Adv-Srch-Books-Submit.x=30&Adv-Srch-Books-Submit.y=21&qid=1602415356&rnid=1000&unfiltered=1&ref=sr_nr_n_1',\n",
       " 'https://www.amazon.com//s?i=stripbooks&bbn=1000&rh=n%3A283155%2Cn%3A2&s=review-count-rank&dc&Adv-Srch-Books-Submit.x=30&Adv-Srch-Books-Submit.y=21&qid=1602415356&rnid=1000&unfiltered=1&ref=sr_nr_n_2',\n",
       " 'https://www.amazon.com//s?i=stripbooks&bbn=1000&rh=n%3A283155%2Cn%3A3&s=review-count-rank&dc&Adv-Srch-Books-Submit.x=30&Adv-Srch-Books-Submit.y=21&qid=1602415356&rnid=1000&unfiltered=1&ref=sr_nr_n_3',\n",
       " 'https://www.amazon.com//s?i=stripbooks&bbn=1000&rh=n%3A283155%2Cn%3A3248857011&s=review-count-rank&dc&Adv-Srch-Books-Submit.x=30&Adv-Srch-Books-Submit.y=21&qid=1602415356&rnid=1000&unfiltered=1&ref=sr_nr_n_4',\n",
       " 'https://www.amazon.com//s?i=stripbooks&bbn=1000&rh=n%3A283155%2Cn%3A4&s=review-count-rank&dc&Adv-Srch-Books-Submit.x=30&Adv-Srch-Books-Submit.y=21&qid=1602415356&rnid=1000&unfiltered=1&ref=sr_nr_n_5',\n",
       " 'https://www.amazon.com//s?i=stripbooks&bbn=1000&rh=n%3A283155%2Cn%3A12290&s=review-count-rank&dc&Adv-Srch-Books-Submit.x=30&Adv-Srch-Books-Submit.y=21&qid=1602415356&rnid=1000&unfiltered=1&ref=sr_nr_n_6',\n",
       " 'https://www.amazon.com//s?i=stripbooks&bbn=1000&rh=n%3A283155%2Cn%3A4366&s=review-count-rank&dc&Adv-Srch-Books-Submit.x=30&Adv-Srch-Books-Submit.y=21&qid=1602415356&rnid=1000&unfiltered=1&ref=sr_nr_n_7',\n",
       " 'https://www.amazon.com//s?i=stripbooks&bbn=1000&rh=n%3A283155%2Cn%3A5&s=review-count-rank&dc&Adv-Srch-Books-Submit.x=30&Adv-Srch-Books-Submit.y=21&qid=1602415356&rnid=1000&unfiltered=1&ref=sr_nr_n_8',\n",
       " 'https://www.amazon.com//s?i=stripbooks&bbn=1000&rh=n%3A283155%2Cn%3A6&s=review-count-rank&dc&Adv-Srch-Books-Submit.x=30&Adv-Srch-Books-Submit.y=21&qid=1602415356&rnid=1000&unfiltered=1&ref=sr_nr_n_9',\n",
       " 'https://www.amazon.com//s?i=stripbooks&bbn=1000&rh=n%3A283155%2Cn%3A48&s=review-count-rank&dc&Adv-Srch-Books-Submit.x=30&Adv-Srch-Books-Submit.y=21&qid=1602415356&rnid=1000&unfiltered=1&ref=sr_nr_n_10',\n",
       " 'https://www.amazon.com//s?i=stripbooks&bbn=1000&rh=n%3A283155%2Cn%3A8975347011&s=review-count-rank&dc&Adv-Srch-Books-Submit.x=30&Adv-Srch-Books-Submit.y=21&qid=1602415356&rnid=1000&unfiltered=1&ref=sr_nr_n_11',\n",
       " 'https://www.amazon.com//s?i=stripbooks&bbn=1000&rh=n%3A283155%2Cn%3A173507&s=review-count-rank&dc&Adv-Srch-Books-Submit.x=30&Adv-Srch-Books-Submit.y=21&qid=1602415356&rnid=1000&unfiltered=1&ref=sr_nr_n_12',\n",
       " 'https://www.amazon.com//s?i=stripbooks&bbn=1000&rh=n%3A283155%2Cn%3A10&s=review-count-rank&dc&Adv-Srch-Books-Submit.x=30&Adv-Srch-Books-Submit.y=21&qid=1602415356&rnid=1000&unfiltered=1&ref=sr_nr_n_13',\n",
       " 'https://www.amazon.com//s?i=stripbooks&bbn=1000&rh=n%3A283155%2Cn%3A9&s=review-count-rank&dc&Adv-Srch-Books-Submit.x=30&Adv-Srch-Books-Submit.y=21&qid=1602415356&rnid=1000&unfiltered=1&ref=sr_nr_n_14',\n",
       " 'https://www.amazon.com//s?i=stripbooks&bbn=1000&rh=n%3A283155%2Cn%3A86&s=review-count-rank&dc&Adv-Srch-Books-Submit.x=30&Adv-Srch-Books-Submit.y=21&qid=1602415356&rnid=1000&unfiltered=1&ref=sr_nr_n_15',\n",
       " 'https://www.amazon.com//s?i=stripbooks&bbn=1000&rh=n%3A283155%2Cn%3A10777&s=review-count-rank&dc&Adv-Srch-Books-Submit.x=30&Adv-Srch-Books-Submit.y=21&qid=1602415356&rnid=1000&unfiltered=1&ref=sr_nr_n_16',\n",
       " 'https://www.amazon.com//s?i=stripbooks&bbn=1000&rh=n%3A283155%2Cn%3A301889&s=review-count-rank&dc&Adv-Srch-Books-Submit.x=30&Adv-Srch-Books-Submit.y=21&qid=1602415356&rnid=1000&unfiltered=1&ref=sr_nr_n_17',\n",
       " 'https://www.amazon.com//s?i=stripbooks&bbn=1000&rh=n%3A283155%2Cn%3A17&s=review-count-rank&dc&Adv-Srch-Books-Submit.x=30&Adv-Srch-Books-Submit.y=21&qid=1602415356&rnid=1000&unfiltered=1&ref=sr_nr_n_18',\n",
       " 'https://www.amazon.com//s?i=stripbooks&bbn=1000&rh=n%3A283155%2Cn%3A173514&s=review-count-rank&dc&Adv-Srch-Books-Submit.x=30&Adv-Srch-Books-Submit.y=21&qid=1602415356&rnid=1000&unfiltered=1&ref=sr_nr_n_19',\n",
       " 'https://www.amazon.com//s?i=stripbooks&bbn=1000&rh=n%3A283155%2Cn%3A18&s=review-count-rank&dc&Adv-Srch-Books-Submit.x=30&Adv-Srch-Books-Submit.y=21&qid=1602415356&rnid=1000&unfiltered=1&ref=sr_nr_n_20',\n",
       " 'https://www.amazon.com//s?i=stripbooks&bbn=1000&rh=n%3A283155%2Cn%3A20&s=review-count-rank&dc&Adv-Srch-Books-Submit.x=30&Adv-Srch-Books-Submit.y=21&qid=1602415356&rnid=1000&unfiltered=1&ref=sr_nr_n_21',\n",
       " 'https://www.amazon.com//s?i=stripbooks&bbn=1000&rh=n%3A283155%2Cn%3A3377866011&s=review-count-rank&dc&Adv-Srch-Books-Submit.x=30&Adv-Srch-Books-Submit.y=21&qid=1602415356&rnid=1000&unfiltered=1&ref=sr_nr_n_22',\n",
       " 'https://www.amazon.com//s?i=stripbooks&bbn=1000&rh=n%3A283155%2Cn%3A21&s=review-count-rank&dc&Adv-Srch-Books-Submit.x=30&Adv-Srch-Books-Submit.y=21&qid=1602415356&rnid=1000&unfiltered=1&ref=sr_nr_n_23',\n",
       " 'https://www.amazon.com//s?i=stripbooks&bbn=1000&rh=n%3A283155%2Cn%3A22&s=review-count-rank&dc&Adv-Srch-Books-Submit.x=30&Adv-Srch-Books-Submit.y=21&qid=1602415356&rnid=1000&unfiltered=1&ref=sr_nr_n_24',\n",
       " 'https://www.amazon.com//s?i=stripbooks&bbn=1000&rh=n%3A283155%2Cn%3A23&s=review-count-rank&dc&Adv-Srch-Books-Submit.x=30&Adv-Srch-Books-Submit.y=21&qid=1602415356&rnid=1000&unfiltered=1&ref=sr_nr_n_25',\n",
       " 'https://www.amazon.com//s?i=stripbooks&bbn=1000&rh=n%3A283155%2Cn%3A75&s=review-count-rank&dc&Adv-Srch-Books-Submit.x=30&Adv-Srch-Books-Submit.y=21&qid=1602415356&rnid=1000&unfiltered=1&ref=sr_nr_n_26',\n",
       " 'https://www.amazon.com//s?i=stripbooks&bbn=1000&rh=n%3A283155%2Cn%3A25&s=review-count-rank&dc&Adv-Srch-Books-Submit.x=30&Adv-Srch-Books-Submit.y=21&qid=1602415356&rnid=1000&unfiltered=1&ref=sr_nr_n_27',\n",
       " 'https://www.amazon.com//s?i=stripbooks&bbn=1000&rh=n%3A283155%2Cn%3A4736&s=review-count-rank&dc&Adv-Srch-Books-Submit.x=30&Adv-Srch-Books-Submit.y=21&qid=1602415356&rnid=1000&unfiltered=1&ref=sr_nr_n_28',\n",
       " 'https://www.amazon.com//s?i=stripbooks&bbn=1000&rh=n%3A283155%2Cn%3A26&s=review-count-rank&dc&Adv-Srch-Books-Submit.x=30&Adv-Srch-Books-Submit.y=21&qid=1602415356&rnid=1000&unfiltered=1&ref=sr_nr_n_29',\n",
       " 'https://www.amazon.com//s?i=stripbooks&bbn=1000&rh=n%3A283155%2Cn%3A28&s=review-count-rank&dc&Adv-Srch-Books-Submit.x=30&Adv-Srch-Books-Submit.y=21&qid=1602415356&rnid=1000&unfiltered=1&ref=sr_nr_n_30',\n",
       " 'https://www.amazon.com//s?i=stripbooks&bbn=1000&rh=n%3A283155%2Cn%3A5267710011&s=review-count-rank&dc&Adv-Srch-Books-Submit.x=30&Adv-Srch-Books-Submit.y=21&qid=1602415356&rnid=1000&unfiltered=1&ref=sr_nr_n_31',\n",
       " 'https://www.amazon.com//s?i=stripbooks&bbn=1000&rh=n%3A283155%2Cn%3A27&s=review-count-rank&dc&Adv-Srch-Books-Submit.x=30&Adv-Srch-Books-Submit.y=21&qid=1602415356&rnid=1000&unfiltered=1&ref=sr_nr_n_32',\n",
       " 'https://www.amazon.com//s?i=stripbooks&bbn=283155&rh=n%3A283155%2Cp_72%3A1250221011&s=review-count-rank&dc&Adv-Srch-Books-Submit.x=30&Adv-Srch-Books-Submit.y=21&qid=1602415356&rnid=1250219011&unfiltered=1&ref=sr_nr_p_72_1',\n",
       " 'https://www.amazon.com//s?i=stripbooks&bbn=283155&rh=n%3A283155%2Cp_72%3A1250222011&s=review-count-rank&dc&Adv-Srch-Books-Submit.x=30&Adv-Srch-Books-Submit.y=21&qid=1602415356&rnid=1250219011&unfiltered=1&ref=sr_nr_p_72_2',\n",
       " 'https://www.amazon.com//s?i=stripbooks&bbn=283155&rh=n%3A283155%2Cp_72%3A1250223011&s=review-count-rank&dc&Adv-Srch-Books-Submit.x=30&Adv-Srch-Books-Submit.y=21&qid=1602415356&rnid=1250219011&unfiltered=1&ref=sr_nr_p_72_3',\n",
       " 'https://www.amazon.com//s?i=stripbooks&bbn=283155&rh=n%3A283155%2Cp_72%3A1250224011&s=review-count-rank&dc&Adv-Srch-Books-Submit.x=30&Adv-Srch-Books-Submit.y=21&qid=1602415356&rnid=1250219011&unfiltered=1&ref=sr_nr_p_72_4',\n",
       " 'https://www.amazon.com//s?i=stripbooks&bbn=283155&rh=n%3A283155%2Cp_lbr_books_series_browse-bin%3ADog+Man&s=review-count-rank&dc&Adv-Srch-Books-Submit.x=30&Adv-Srch-Books-Submit.y=21&qid=1602415356&rnid=3275128011&unfiltered=1&ref=sr_nr_p_lbr_books_series_browse-bin_2',\n",
       " 'https://www.amazon.com//s?i=stripbooks&bbn=283155&rh=n%3A283155%2Cp_lbr_books_series_browse-bin%3APicture+Puffins&s=review-count-rank&dc&Adv-Srch-Books-Submit.x=30&Adv-Srch-Books-Submit.y=21&qid=1602415356&rnid=3275128011&unfiltered=1&ref=sr_nr_p_lbr_books_series_browse-bin_3',\n",
       " 'https://www.amazon.com//s?i=stripbooks&bbn=283155&rh=n%3A283155%2Cp_lbr_books_series_browse-bin%3ATrials+of+Apollo&s=review-count-rank&dc&Adv-Srch-Books-Submit.x=30&Adv-Srch-Books-Submit.y=21&qid=1602415356&rnid=3275128011&unfiltered=1&ref=sr_nr_p_lbr_books_series_browse-bin_4',\n",
       " 'https://www.amazon.com//s?i=stripbooks&bbn=283155&rh=n%3A283155%2Cp_lbr_books_series_browse-bin%3AA+Mitch+Rapp+Novel&s=review-count-rank&dc&Adv-Srch-Books-Submit.x=30&Adv-Srch-Books-Submit.y=21&qid=1602415356&rnid=3275128011&unfiltered=1&ref=sr_nr_p_lbr_books_series_browse-bin_5',\n",
       " 'https://www.amazon.com//s?i=stripbooks&bbn=283155&rh=n%3A283155%2Cp_lbr_books_series_browse-bin%3AToltec+Wisdom&s=review-count-rank&dc&Adv-Srch-Books-Submit.x=30&Adv-Srch-Books-Submit.y=21&qid=1602415356&rnid=3275128011&unfiltered=1&ref=sr_nr_p_lbr_books_series_browse-bin_6',\n",
       " 'https://www.amazon.com//s?i=stripbooks&bbn=283155&rh=n%3A283155%2Cp_lbr_books_series_browse-bin%3ADumpty&s=review-count-rank&dc&Adv-Srch-Books-Submit.x=30&Adv-Srch-Books-Submit.y=21&qid=1602415356&rnid=3275128011&unfiltered=1&ref=sr_nr_p_lbr_books_series_browse-bin_7',\n",
       " 'https://www.amazon.com//s?i=stripbooks&bbn=283155&rh=n%3A283155%2Cp_n_publication_date%3A1250226011&s=review-count-rank&dc&Adv-Srch-Books-Submit.x=30&Adv-Srch-Books-Submit.y=21&qid=1602415356&rnid=1250225011&unfiltered=1&ref=sr_nr_p_n_publication_date_1',\n",
       " 'https://www.amazon.com//s?i=stripbooks&bbn=283155&rh=n%3A283155%2Cp_n_publication_date%3A1250227011&s=review-count-rank&dc&Adv-Srch-Books-Submit.x=30&Adv-Srch-Books-Submit.y=21&qid=1602415356&rnid=1250225011&unfiltered=1&ref=sr_nr_p_n_publication_date_2',\n",
       " 'https://www.amazon.com//s?i=stripbooks&bbn=283155&rh=n%3A283155%2Cp_n_publication_date%3A1250228011&s=review-count-rank&dc&Adv-Srch-Books-Submit.x=30&Adv-Srch-Books-Submit.y=21&qid=1602415356&rnid=1250225011&unfiltered=1&ref=sr_nr_p_n_publication_date_3',\n",
       " 'https://www.amazon.com//s?i=stripbooks&bbn=283155&rh=n%3A283155%2Cp_n_feature_browse-bin%3A2656020011&s=review-count-rank&dc&Adv-Srch-Books-Submit.x=30&Adv-Srch-Books-Submit.y=21&qid=1602415356&rnid=618072011&unfiltered=1&ref=sr_nr_p_n_feature_browse-bin_2',\n",
       " 'https://www.amazon.com//s?i=stripbooks&bbn=283155&rh=n%3A283155%2Cp_n_feature_browse-bin%3A618073011&s=review-count-rank&dc&Adv-Srch-Books-Submit.x=30&Adv-Srch-Books-Submit.y=21&qid=1602415356&rnid=618072011&unfiltered=1&ref=sr_nr_p_n_feature_browse-bin_3',\n",
       " 'https://www.amazon.com//s?i=stripbooks&bbn=283155&rh=n%3A283155%2Cp_n_feature_browse-bin%3A14725254011&s=review-count-rank&dc&Adv-Srch-Books-Submit.x=30&Adv-Srch-Books-Submit.y=21&qid=1602415356&rnid=618072011&unfiltered=1&ref=sr_nr_p_n_feature_browse-bin_4',\n",
       " 'https://www.amazon.com//s?i=stripbooks&bbn=283155&rh=n%3A283155%2Cp_n_feature_browse-bin%3A1240885011&s=review-count-rank&dc&Adv-Srch-Books-Submit.x=30&Adv-Srch-Books-Submit.y=21&qid=1602415356&rnid=618072011&unfiltered=1&ref=sr_nr_p_n_feature_browse-bin_5',\n",
       " 'https://www.amazon.com//s?i=stripbooks&bbn=283155&rh=n%3A283155%2Cp_n_feature_browse-bin%3A7114437011&s=review-count-rank&dc&Adv-Srch-Books-Submit.x=30&Adv-Srch-Books-Submit.y=21&qid=1602415356&rnid=618072011&unfiltered=1&ref=sr_nr_p_n_feature_browse-bin_6',\n",
       " 'https://www.amazon.com//s?i=stripbooks&bbn=283155&rh=n%3A283155%2Cp_n_feature_browse-bin%3A9934628011&s=review-count-rank&dc&Adv-Srch-Books-Submit.x=30&Adv-Srch-Books-Submit.y=21&qid=1602415356&rnid=618072011&unfiltered=1&ref=sr_nr_p_n_feature_browse-bin_7',\n",
       " 'https://www.amazon.com//s?i=stripbooks&bbn=283155&rh=n%3A283155%2Cp_n_feature_browse-bin%3A13411983011&s=review-count-rank&dc&Adv-Srch-Books-Submit.x=30&Adv-Srch-Books-Submit.y=21&qid=1602415356&rnid=618072011&unfiltered=1&ref=sr_nr_p_n_feature_browse-bin_8',\n",
       " 'https://www.amazon.com//s?i=stripbooks&bbn=283155&rh=n%3A283155%2Cp_n_feature_browse-bin%3A2682077011&s=review-count-rank&dc&Adv-Srch-Books-Submit.x=30&Adv-Srch-Books-Submit.y=21&qid=1602415356&rnid=618072011&unfiltered=1&ref=sr_nr_p_n_feature_browse-bin_9',\n",
       " 'https://www.amazon.com//s?i=stripbooks&bbn=283155&rh=n%3A283155%2Cp_n_feature_browse-bin%3A2656019011&s=review-count-rank&dc&Adv-Srch-Books-Submit.x=30&Adv-Srch-Books-Submit.y=21&qid=1602415356&rnid=618072011&unfiltered=1&ref=sr_nr_p_n_feature_browse-bin_10',\n",
       " 'https://www.amazon.com//s?i=stripbooks&bbn=283155&rh=n%3A283155%2Cp_lbr_one_browse-bin%3ABob+Woodward&s=review-count-rank&dc&Adv-Srch-Books-Submit.x=30&Adv-Srch-Books-Submit.y=21&qid=1602415356&rnid=2272759011&unfiltered=1&ref=sr_nr_p_lbr_one_browse-bin_2',\n",
       " 'https://www.amazon.com//s?i=stripbooks&bbn=283155&rh=n%3A283155%2Cp_lbr_one_browse-bin%3ASteve+Doocy&s=review-count-rank&dc&Adv-Srch-Books-Submit.x=30&Adv-Srch-Books-Submit.y=21&qid=1602415356&rnid=2272759011&unfiltered=1&ref=sr_nr_p_lbr_one_browse-bin_3',\n",
       " 'https://www.amazon.com//s?i=stripbooks&bbn=283155&rh=n%3A283155%2Cp_lbr_one_browse-bin%3ATed+Cruz&s=review-count-rank&dc&Adv-Srch-Books-Submit.x=30&Adv-Srch-Books-Submit.y=21&qid=1602415356&rnid=2272759011&unfiltered=1&ref=sr_nr_p_lbr_one_browse-bin_4',\n",
       " 'https://www.amazon.com//s?i=stripbooks&bbn=283155&rh=n%3A283155%2Cp_lbr_one_browse-bin%3ADav+Pilkey&s=review-count-rank&dc&Adv-Srch-Books-Submit.x=30&Adv-Srch-Books-Submit.y=21&qid=1602415356&rnid=2272759011&unfiltered=1&ref=sr_nr_p_lbr_one_browse-bin_5',\n",
       " 'https://www.amazon.com//s?i=stripbooks&bbn=283155&rh=n%3A283155%2Cp_lbr_one_browse-bin%3ACandace+Owens&s=review-count-rank&dc&Adv-Srch-Books-Submit.x=30&Adv-Srch-Books-Submit.y=21&qid=1602415356&rnid=2272759011&unfiltered=1&ref=sr_nr_p_lbr_one_browse-bin_6',\n",
       " 'https://www.amazon.com//s?i=stripbooks&bbn=283155&rh=n%3A283155%2Cp_lbr_one_browse-bin%3AStephenie+Meyer&s=review-count-rank&dc&Adv-Srch-Books-Submit.x=30&Adv-Srch-Books-Submit.y=21&qid=1602415356&rnid=2272759011&unfiltered=1&ref=sr_nr_p_lbr_one_browse-bin_7',\n",
       " 'https://www.amazon.com//s?i=stripbooks&bbn=283155&rh=n%3A283155%2Cp_n_feature_nine_browse-bin%3A3291436011&s=review-count-rank&dc&Adv-Srch-Books-Submit.x=30&Adv-Srch-Books-Submit.y=21&qid=1602415356&rnid=3291435011&unfiltered=1&ref=sr_nr_p_n_feature_nine_browse-bin_2',\n",
       " 'https://www.amazon.com//s?i=stripbooks&bbn=283155&rh=n%3A283155%2Cp_n_feature_nine_browse-bin%3A3291438011&s=review-count-rank&dc&Adv-Srch-Books-Submit.x=30&Adv-Srch-Books-Submit.y=21&qid=1602415356&rnid=3291435011&unfiltered=1&ref=sr_nr_p_n_feature_nine_browse-bin_3',\n",
       " 'https://www.amazon.com//s?i=stripbooks&bbn=283155&rh=n%3A283155%2Cp_n_feature_nine_browse-bin%3A3291439011&s=review-count-rank&dc&Adv-Srch-Books-Submit.x=30&Adv-Srch-Books-Submit.y=21&qid=1602415356&rnid=3291435011&unfiltered=1&ref=sr_nr_p_n_feature_nine_browse-bin_4',\n",
       " 'https://www.amazon.com//s?i=stripbooks&bbn=283155&rh=n%3A283155%2Cp_n_feature_nine_browse-bin%3A18327576011&s=review-count-rank&dc&Adv-Srch-Books-Submit.x=30&Adv-Srch-Books-Submit.y=21&qid=1602415356&rnid=3291435011&unfiltered=1&ref=sr_nr_p_n_feature_nine_browse-bin_5',\n",
       " 'https://www.amazon.com//s?i=stripbooks&bbn=283155&rh=n%3A283155%2Cp_n_feature_nine_browse-bin%3A3291458011&s=review-count-rank&dc&Adv-Srch-Books-Submit.x=30&Adv-Srch-Books-Submit.y=21&qid=1602415356&rnid=3291435011&unfiltered=1&ref=sr_nr_p_n_feature_nine_browse-bin_6',\n",
       " 'https://www.amazon.com//s?i=stripbooks&bbn=283155&rh=n%3A283155%2Cp_n_feature_nine_browse-bin%3A3291443011&s=review-count-rank&dc&Adv-Srch-Books-Submit.x=30&Adv-Srch-Books-Submit.y=21&qid=1602415356&rnid=3291435011&unfiltered=1&ref=sr_nr_p_n_feature_nine_browse-bin_7',\n",
       " 'https://www.amazon.com//s?i=stripbooks&bbn=283155&rh=n%3A283155%2Cp_n_feature_three_browse-bin%3A1250579011&s=review-count-rank&dc&Adv-Srch-Books-Submit.x=30&Adv-Srch-Books-Submit.y=21&qid=1602415356&rnid=1250577011&unfiltered=1&ref=sr_nr_p_n_feature_three_browse-bin_2',\n",
       " 'https://www.amazon.com//s?i=stripbooks&bbn=283155&rh=n%3A283155%2Cp_n_feature_three_browse-bin%3A1250580011&s=review-count-rank&dc&Adv-Srch-Books-Submit.x=30&Adv-Srch-Books-Submit.y=21&qid=1602415356&rnid=1250577011&unfiltered=1&ref=sr_nr_p_n_feature_three_browse-bin_3',\n",
       " 'https://www.amazon.com//s?i=stripbooks&bbn=283155&rh=n%3A283155%2Cp_n_feature_three_browse-bin%3A1250582011&s=review-count-rank&dc&Adv-Srch-Books-Submit.x=30&Adv-Srch-Books-Submit.y=21&qid=1602415356&rnid=1250577011&unfiltered=1&ref=sr_nr_p_n_feature_three_browse-bin_4',\n",
       " 'https://www.amazon.com//s?i=stripbooks&bbn=283155&rh=n%3A283155%2Cp_n_feature_three_browse-bin%3A1250584011&s=review-count-rank&dc&Adv-Srch-Books-Submit.x=30&Adv-Srch-Books-Submit.y=21&qid=1602415356&rnid=1250577011&unfiltered=1&ref=sr_nr_p_n_feature_three_browse-bin_5',\n",
       " 'https://www.amazon.com//s?i=stripbooks&bbn=283155&rh=n%3A283155%2Cp_n_feature_three_browse-bin%3A1251276011&s=review-count-rank&dc&Adv-Srch-Books-Submit.x=30&Adv-Srch-Books-Submit.y=21&qid=1602415356&rnid=1250577011&unfiltered=1&ref=sr_nr_p_n_feature_three_browse-bin_6',\n",
       " 'https://www.amazon.com//s?i=stripbooks&bbn=283155&rh=n%3A283155%2Cp_n_feature_three_browse-bin%3A7428544011&s=review-count-rank&dc&Adv-Srch-Books-Submit.x=30&Adv-Srch-Books-Submit.y=21&qid=1602415356&rnid=1250577011&unfiltered=1&ref=sr_nr_p_n_feature_three_browse-bin_7',\n",
       " 'https://www.amazon.com//s?i=stripbooks&bbn=283155&rh=n%3A283155%2Cp_n_global_store_origin_marketplace%3A16354393011&s=review-count-rank&dc&Adv-Srch-Books-Submit.x=30&Adv-Srch-Books-Submit.y=21&qid=1602415356&rnid=16354392011&unfiltered=1&ref=sr_nr_p_n_global_store_origin_marketplace_1',\n",
       " 'https://www.amazon.com//s?i=stripbooks&bbn=283155&rh=n%3A283155%2Cp_n_condition-type%3A1294423011&s=review-count-rank&dc&Adv-Srch-Books-Submit.x=30&Adv-Srch-Books-Submit.y=21&qid=1602415356&rnid=1294421011&unfiltered=1&ref=sr_nr_p_n_condition-type_1',\n",
       " 'https://www.amazon.com//s?i=stripbooks&bbn=283155&rh=n%3A283155%2Cp_n_condition-type%3A1294425011&s=review-count-rank&dc&Adv-Srch-Books-Submit.x=30&Adv-Srch-Books-Submit.y=21&qid=1602415356&rnid=1294421011&unfiltered=1&ref=sr_nr_p_n_condition-type_2',\n",
       " 'https://www.amazon.com//s?i=stripbooks&bbn=283155&rh=n%3A283155%2Cp_n_condition-type%3A1294422011&s=review-count-rank&dc&Adv-Srch-Books-Submit.x=30&Adv-Srch-Books-Submit.y=21&qid=1602415356&rnid=1294421011&unfiltered=1&ref=sr_nr_p_n_condition-type_3',\n",
       " 'https://www.amazon.com//s?i=stripbooks&bbn=283155&rh=n%3A283155%2Cp_n_availability%3A2245265011&s=review-count-rank&dc&Adv-Srch-Books-Submit.x=30&Adv-Srch-Books-Submit.y=21&qid=1602415356&rnid=2245264011&unfiltered=1&ref=sr_nr_p_n_availability_2',\n",
       " 'https://www.amazon.com//s?i=stripbooks&bbn=283155&rh=n%3A283155&s=review-count-rank&dc&Adv-Srch-Books-Submit.x=30&Adv-Srch-Books-Submit.y=21&qid=1602415356&unfiltered=1&ref=sr_pg_1',\n",
       " 'https://www.amazon.com//s?i=stripbooks&bbn=283155&rh=n%3A283155&s=review-count-rank&dc&page=2&Adv-Srch-Books-Submit.x=30&Adv-Srch-Books-Submit.y=21&qid=1602415356&unfiltered=1&ref=sr_pg_2',\n",
       " 'https://www.amazon.com//s?i=stripbooks&bbn=283155&rh=n%3A283155&s=review-count-rank&dc&page=3&Adv-Srch-Books-Submit.x=30&Adv-Srch-Books-Submit.y=21&qid=1602415356&unfiltered=1&ref=sr_pg_3',\n",
       " 'https://www.amazon.com//s?i=stripbooks&bbn=283155&rh=n%3A283155&s=review-count-rank&dc&page=2&Adv-Srch-Books-Submit.x=30&Adv-Srch-Books-Submit.y=21&qid=1602415356&unfiltered=1&ref=sr_pg_1']"
      ]
     },
     "execution_count": 5,
     "metadata": {},
     "output_type": "execute_result"
    }
   ],
   "source": [
    "final_list"
   ]
  },
  {
   "cell_type": "code",
   "execution_count": 6,
   "metadata": {},
   "outputs": [],
   "source": [
    "#the frist 32 links are the links to recorn with. Get them\n",
    "final_urls =final_list[:32]"
   ]
  },
  {
   "cell_type": "code",
   "execution_count": 7,
   "metadata": {},
   "outputs": [
    {
     "data": {
      "text/plain": [
       "['https://www.amazon.com//s?i=stripbooks&bbn=1000&rh=n%3A283155%2Cn%3A1&s=review-count-rank&dc&Adv-Srch-Books-Submit.x=30&Adv-Srch-Books-Submit.y=21&qid=1602415356&rnid=1000&unfiltered=1&ref=sr_nr_n_1',\n",
       " 'https://www.amazon.com//s?i=stripbooks&bbn=1000&rh=n%3A283155%2Cn%3A2&s=review-count-rank&dc&Adv-Srch-Books-Submit.x=30&Adv-Srch-Books-Submit.y=21&qid=1602415356&rnid=1000&unfiltered=1&ref=sr_nr_n_2',\n",
       " 'https://www.amazon.com//s?i=stripbooks&bbn=1000&rh=n%3A283155%2Cn%3A3&s=review-count-rank&dc&Adv-Srch-Books-Submit.x=30&Adv-Srch-Books-Submit.y=21&qid=1602415356&rnid=1000&unfiltered=1&ref=sr_nr_n_3',\n",
       " 'https://www.amazon.com//s?i=stripbooks&bbn=1000&rh=n%3A283155%2Cn%3A3248857011&s=review-count-rank&dc&Adv-Srch-Books-Submit.x=30&Adv-Srch-Books-Submit.y=21&qid=1602415356&rnid=1000&unfiltered=1&ref=sr_nr_n_4',\n",
       " 'https://www.amazon.com//s?i=stripbooks&bbn=1000&rh=n%3A283155%2Cn%3A4&s=review-count-rank&dc&Adv-Srch-Books-Submit.x=30&Adv-Srch-Books-Submit.y=21&qid=1602415356&rnid=1000&unfiltered=1&ref=sr_nr_n_5',\n",
       " 'https://www.amazon.com//s?i=stripbooks&bbn=1000&rh=n%3A283155%2Cn%3A12290&s=review-count-rank&dc&Adv-Srch-Books-Submit.x=30&Adv-Srch-Books-Submit.y=21&qid=1602415356&rnid=1000&unfiltered=1&ref=sr_nr_n_6',\n",
       " 'https://www.amazon.com//s?i=stripbooks&bbn=1000&rh=n%3A283155%2Cn%3A4366&s=review-count-rank&dc&Adv-Srch-Books-Submit.x=30&Adv-Srch-Books-Submit.y=21&qid=1602415356&rnid=1000&unfiltered=1&ref=sr_nr_n_7',\n",
       " 'https://www.amazon.com//s?i=stripbooks&bbn=1000&rh=n%3A283155%2Cn%3A5&s=review-count-rank&dc&Adv-Srch-Books-Submit.x=30&Adv-Srch-Books-Submit.y=21&qid=1602415356&rnid=1000&unfiltered=1&ref=sr_nr_n_8',\n",
       " 'https://www.amazon.com//s?i=stripbooks&bbn=1000&rh=n%3A283155%2Cn%3A6&s=review-count-rank&dc&Adv-Srch-Books-Submit.x=30&Adv-Srch-Books-Submit.y=21&qid=1602415356&rnid=1000&unfiltered=1&ref=sr_nr_n_9',\n",
       " 'https://www.amazon.com//s?i=stripbooks&bbn=1000&rh=n%3A283155%2Cn%3A48&s=review-count-rank&dc&Adv-Srch-Books-Submit.x=30&Adv-Srch-Books-Submit.y=21&qid=1602415356&rnid=1000&unfiltered=1&ref=sr_nr_n_10',\n",
       " 'https://www.amazon.com//s?i=stripbooks&bbn=1000&rh=n%3A283155%2Cn%3A8975347011&s=review-count-rank&dc&Adv-Srch-Books-Submit.x=30&Adv-Srch-Books-Submit.y=21&qid=1602415356&rnid=1000&unfiltered=1&ref=sr_nr_n_11',\n",
       " 'https://www.amazon.com//s?i=stripbooks&bbn=1000&rh=n%3A283155%2Cn%3A173507&s=review-count-rank&dc&Adv-Srch-Books-Submit.x=30&Adv-Srch-Books-Submit.y=21&qid=1602415356&rnid=1000&unfiltered=1&ref=sr_nr_n_12',\n",
       " 'https://www.amazon.com//s?i=stripbooks&bbn=1000&rh=n%3A283155%2Cn%3A10&s=review-count-rank&dc&Adv-Srch-Books-Submit.x=30&Adv-Srch-Books-Submit.y=21&qid=1602415356&rnid=1000&unfiltered=1&ref=sr_nr_n_13',\n",
       " 'https://www.amazon.com//s?i=stripbooks&bbn=1000&rh=n%3A283155%2Cn%3A9&s=review-count-rank&dc&Adv-Srch-Books-Submit.x=30&Adv-Srch-Books-Submit.y=21&qid=1602415356&rnid=1000&unfiltered=1&ref=sr_nr_n_14',\n",
       " 'https://www.amazon.com//s?i=stripbooks&bbn=1000&rh=n%3A283155%2Cn%3A86&s=review-count-rank&dc&Adv-Srch-Books-Submit.x=30&Adv-Srch-Books-Submit.y=21&qid=1602415356&rnid=1000&unfiltered=1&ref=sr_nr_n_15',\n",
       " 'https://www.amazon.com//s?i=stripbooks&bbn=1000&rh=n%3A283155%2Cn%3A10777&s=review-count-rank&dc&Adv-Srch-Books-Submit.x=30&Adv-Srch-Books-Submit.y=21&qid=1602415356&rnid=1000&unfiltered=1&ref=sr_nr_n_16',\n",
       " 'https://www.amazon.com//s?i=stripbooks&bbn=1000&rh=n%3A283155%2Cn%3A301889&s=review-count-rank&dc&Adv-Srch-Books-Submit.x=30&Adv-Srch-Books-Submit.y=21&qid=1602415356&rnid=1000&unfiltered=1&ref=sr_nr_n_17',\n",
       " 'https://www.amazon.com//s?i=stripbooks&bbn=1000&rh=n%3A283155%2Cn%3A17&s=review-count-rank&dc&Adv-Srch-Books-Submit.x=30&Adv-Srch-Books-Submit.y=21&qid=1602415356&rnid=1000&unfiltered=1&ref=sr_nr_n_18',\n",
       " 'https://www.amazon.com//s?i=stripbooks&bbn=1000&rh=n%3A283155%2Cn%3A173514&s=review-count-rank&dc&Adv-Srch-Books-Submit.x=30&Adv-Srch-Books-Submit.y=21&qid=1602415356&rnid=1000&unfiltered=1&ref=sr_nr_n_19',\n",
       " 'https://www.amazon.com//s?i=stripbooks&bbn=1000&rh=n%3A283155%2Cn%3A18&s=review-count-rank&dc&Adv-Srch-Books-Submit.x=30&Adv-Srch-Books-Submit.y=21&qid=1602415356&rnid=1000&unfiltered=1&ref=sr_nr_n_20',\n",
       " 'https://www.amazon.com//s?i=stripbooks&bbn=1000&rh=n%3A283155%2Cn%3A20&s=review-count-rank&dc&Adv-Srch-Books-Submit.x=30&Adv-Srch-Books-Submit.y=21&qid=1602415356&rnid=1000&unfiltered=1&ref=sr_nr_n_21',\n",
       " 'https://www.amazon.com//s?i=stripbooks&bbn=1000&rh=n%3A283155%2Cn%3A3377866011&s=review-count-rank&dc&Adv-Srch-Books-Submit.x=30&Adv-Srch-Books-Submit.y=21&qid=1602415356&rnid=1000&unfiltered=1&ref=sr_nr_n_22',\n",
       " 'https://www.amazon.com//s?i=stripbooks&bbn=1000&rh=n%3A283155%2Cn%3A21&s=review-count-rank&dc&Adv-Srch-Books-Submit.x=30&Adv-Srch-Books-Submit.y=21&qid=1602415356&rnid=1000&unfiltered=1&ref=sr_nr_n_23',\n",
       " 'https://www.amazon.com//s?i=stripbooks&bbn=1000&rh=n%3A283155%2Cn%3A22&s=review-count-rank&dc&Adv-Srch-Books-Submit.x=30&Adv-Srch-Books-Submit.y=21&qid=1602415356&rnid=1000&unfiltered=1&ref=sr_nr_n_24',\n",
       " 'https://www.amazon.com//s?i=stripbooks&bbn=1000&rh=n%3A283155%2Cn%3A23&s=review-count-rank&dc&Adv-Srch-Books-Submit.x=30&Adv-Srch-Books-Submit.y=21&qid=1602415356&rnid=1000&unfiltered=1&ref=sr_nr_n_25',\n",
       " 'https://www.amazon.com//s?i=stripbooks&bbn=1000&rh=n%3A283155%2Cn%3A75&s=review-count-rank&dc&Adv-Srch-Books-Submit.x=30&Adv-Srch-Books-Submit.y=21&qid=1602415356&rnid=1000&unfiltered=1&ref=sr_nr_n_26',\n",
       " 'https://www.amazon.com//s?i=stripbooks&bbn=1000&rh=n%3A283155%2Cn%3A25&s=review-count-rank&dc&Adv-Srch-Books-Submit.x=30&Adv-Srch-Books-Submit.y=21&qid=1602415356&rnid=1000&unfiltered=1&ref=sr_nr_n_27',\n",
       " 'https://www.amazon.com//s?i=stripbooks&bbn=1000&rh=n%3A283155%2Cn%3A4736&s=review-count-rank&dc&Adv-Srch-Books-Submit.x=30&Adv-Srch-Books-Submit.y=21&qid=1602415356&rnid=1000&unfiltered=1&ref=sr_nr_n_28',\n",
       " 'https://www.amazon.com//s?i=stripbooks&bbn=1000&rh=n%3A283155%2Cn%3A26&s=review-count-rank&dc&Adv-Srch-Books-Submit.x=30&Adv-Srch-Books-Submit.y=21&qid=1602415356&rnid=1000&unfiltered=1&ref=sr_nr_n_29',\n",
       " 'https://www.amazon.com//s?i=stripbooks&bbn=1000&rh=n%3A283155%2Cn%3A28&s=review-count-rank&dc&Adv-Srch-Books-Submit.x=30&Adv-Srch-Books-Submit.y=21&qid=1602415356&rnid=1000&unfiltered=1&ref=sr_nr_n_30',\n",
       " 'https://www.amazon.com//s?i=stripbooks&bbn=1000&rh=n%3A283155%2Cn%3A5267710011&s=review-count-rank&dc&Adv-Srch-Books-Submit.x=30&Adv-Srch-Books-Submit.y=21&qid=1602415356&rnid=1000&unfiltered=1&ref=sr_nr_n_31',\n",
       " 'https://www.amazon.com//s?i=stripbooks&bbn=1000&rh=n%3A283155%2Cn%3A27&s=review-count-rank&dc&Adv-Srch-Books-Submit.x=30&Adv-Srch-Books-Submit.y=21&qid=1602415356&rnid=1000&unfiltered=1&ref=sr_nr_n_32']"
      ]
     },
     "execution_count": 7,
     "metadata": {},
     "output_type": "execute_result"
    }
   ],
   "source": [
    "final_urls"
   ]
  },
  {
   "cell_type": "markdown",
   "metadata": {},
   "source": [
    "**Each URL from above leads to different book categories. This means that there would be more than one page for each book category(URL). In the next steps, we will get the links for the first three pages of each book category.**"
   ]
  },
  {
   "cell_type": "code",
   "execution_count": 8,
   "metadata": {},
   "outputs": [],
   "source": [
    "#Iterate through the urls and get all links \n",
    "page_list = []\n",
    "for url in final_urls:\n",
    "    driver = webdriver.Chrome(\"C:/Users/MAINGATE/Downloads/chromedriver_win32/chromedriver.exe\")\n",
    "    driver.get(url)  \n",
    "    sleep(randint(5,15))\n",
    "    soup = BeautifulSoup(driver.page_source, 'html.parser')\n",
    "    page_urls = [item.get(\"href\") for item in soup.find_all(\"a\")]\n",
    "\n",
    "#Remove duplicates and none values\n",
    "    urls_final = list(dict.fromkeys(page_urls))\n",
    "    urls_final = list(filter(None, urls_final)) \n",
    "\n",
    "\n",
    "#Get all the links that starts with '/s?i=stripbooks'\n",
    "    url_final = [x for x in urls_final if x.startswith('/s?i=stripbooks')]\n",
    "#Remove all links that ends with ''h_1''\n",
    "    url_final = [x for x in url_final if not x.endswith('hi_1')]\n",
    "    \n",
    "#I noticed the links I want all end with either of the strings in 'prefixes' below, so I decided to get just the links that end with thos strings.\n",
    "    prefixes =  ('sr_pg_1', 'sr_pg_2','sr_pg_3')\n",
    "    url_final = [x for x in url_final if x.endswith(prefixes)]\n",
    "\n",
    "#to make sure the links mirrors the original link, we need to add the main link to amazon to all sublinks gotten from the html source code    \n",
    "    string = 'https://www.amazon.com/'\n",
    "    final_list=[string + s for s in url_final]\n",
    "    final_pages =final_list[0:3]\n",
    "    page_list.append(final_pages)"
   ]
  },
  {
   "cell_type": "code",
   "execution_count": 9,
   "metadata": {},
   "outputs": [],
   "source": [
    "#the links returned from above is a list of list. Let's convert them to a flat list.\n",
    "flat_list = []\n",
    "for sublist in page_list:\n",
    "    for item in sublist:\n",
    "        flat_list.append(item)"
   ]
  },
  {
   "cell_type": "code",
   "execution_count": 25,
   "metadata": {},
   "outputs": [],
   "source": [
    "#Empty list to store the data we will get from the links\n",
    "titles = []\n",
    "authors = []\n",
    "dates = []\n",
    "stars = []\n",
    "ratings = []\n",
    "prices = []\n",
    "categs = []"
   ]
  },
  {
   "cell_type": "code",
   "execution_count": null,
   "metadata": {},
   "outputs": [],
   "source": [
    "# Iterate through the links in flat_list and collect the wanted data.\n",
    "for x in flat_list:\n",
    "        driver = webdriver.Chrome(\"C:/Users/MAINGATE/Downloads/chromedriver_win32/chromedriver.exe\")\n",
    "        driver.get(x)  \n",
    "        sleep(randint(2,10))\n",
    "        from bs4 import BeautifulSoup\n",
    "        soup = BeautifulSoup(driver.page_source, 'html.parser')\n",
    "        containers = soup.find_all(\"div\", class_ = \"sg-col-20-of-24 s-result-item s-asin sg-col-0-of-12 sg-col-28-of-32 sg-col-16-of-20 sg-col sg-col-32-of-36 sg-col-12-of-16 sg-col-24-of-28\")\n",
    "        for container in containers:\n",
    "            try:\n",
    "                title1 = container.find(\"span\", class_=\"a-size-medium a-color-base a-text-normal\").text\n",
    "                titles.append(title1)\n",
    "\n",
    "                if container.find(\"div\", class_=\"a-row a-size-base a-color-secondary\").find(\"a\", \"a-size-base a-link-normal\") is None:\n",
    "                    authors.append(container.find(\"div\", class_=\"a-row a-size-base a-color-secondary\").find_all(\"span\", class_=\"a-size-base\")[2].text)\n",
    "                elif container.find(\"div\", class_=\"a-row a-size-base a-color-secondary\").find(\"a\", \"a-size-base a-link-normal\") is not None:\n",
    "                    author1 = container.find(\"div\", class_=\"a-row a-size-base a-color-secondary\").find(\"a\", \"a-size-base a-link-normal\").text.strip()\n",
    "                    authors.append(author1)\n",
    "                else: authors.append(\"-\")\n",
    "            except IndexError:\n",
    "                authors.append('No Author')\n",
    "                \n",
    "             \n",
    "            if container.find(\"span\", \"a-size-base a-color-secondary a-text-normal\") is not None:\n",
    "                date1 = container.find(\"span\", \"a-size-base a-color-secondary a-text-normal\").text\n",
    "                dates.append(date1)\n",
    "            else: dates.append(\"-\")\n",
    "\n",
    "            if container.find(\"i\", \"a-icon a-icon-star-small a-star-small-4-5 aok-align-bottom\") is not None:\n",
    "                star1 = float(container.find(\"i\", \"a-icon a-icon-star-small a-star-small-4-5 aok-align-bottom\").text.replace(\" out of 5 stars\",\"\"))\n",
    "                stars.append(star1)\n",
    "            else: stars.append(\"-\")\n",
    "\n",
    "            if container.find(\"div\", class_=\"a-row a-size-small\") is not None:\n",
    "                rating1 = int(container.find(\"div\", class_=\"a-row a-size-small\").find(\"span\", class_=\"a-size-base\").text.replace(\",\",\"\"))\n",
    "                ratings.append(rating1)\n",
    "            else: ratings.append(\"-\")\n",
    "            \n",
    "            \n",
    "            cat = soup.find_all('span', class_=\"a-size-base a-color-base a-text-bold\")[2].text\n",
    "            categs.append(cat)"
   ]
  },
  {
   "cell_type": "code",
   "execution_count": 19,
   "metadata": {},
   "outputs": [],
   "source": [
    "#Combine the lists into a dataframe\n",
    "df1 = pd.DataFrame({\"TITLE\":titles, \"AUTHOR\":authors, \"DATE\":dates,'STAR':stars , \"RATING\":ratings, \"CATEGORY\":categs})\n"
   ]
  },
  {
   "cell_type": "code",
   "execution_count": null,
   "metadata": {},
   "outputs": [],
   "source": [
    "df1.to_csv('Amazon books data.csv')"
   ]
  }
 ],
 "metadata": {
  "kernelspec": {
   "display_name": "Python 3",
   "language": "python",
   "name": "python3"
  },
  "language_info": {
   "codemirror_mode": {
    "name": "ipython",
    "version": 3
   },
   "file_extension": ".py",
   "mimetype": "text/x-python",
   "name": "python",
   "nbconvert_exporter": "python",
   "pygments_lexer": "ipython3",
   "version": "3.7.6"
  }
 },
 "nbformat": 4,
 "nbformat_minor": 4
}
