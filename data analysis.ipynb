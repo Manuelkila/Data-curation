{
 "cells": [
  {
   "cell_type": "code",
   "execution_count": 1,
   "metadata": {},
   "outputs": [],
   "source": [
    "#import libraries\n",
    "import numpy as np\n",
    "import pandas as pd\n",
    "import seaborn as sns\n",
    "import matplotlib.pyplot as plt"
   ]
  },
  {
   "cell_type": "code",
   "execution_count": 2,
   "metadata": {},
   "outputs": [],
   "source": [
    "df1 = pd.read_csv('cleaned amazon data.csv')"
   ]
  },
  {
   "cell_type": "code",
   "execution_count": 3,
   "metadata": {},
   "outputs": [
    {
     "data": {
      "text/html": [
       "<div>\n",
       "<style scoped>\n",
       "    .dataframe tbody tr th:only-of-type {\n",
       "        vertical-align: middle;\n",
       "    }\n",
       "\n",
       "    .dataframe tbody tr th {\n",
       "        vertical-align: top;\n",
       "    }\n",
       "\n",
       "    .dataframe thead th {\n",
       "        text-align: right;\n",
       "    }\n",
       "</style>\n",
       "<table border=\"1\" class=\"dataframe\">\n",
       "  <thead>\n",
       "    <tr style=\"text-align: right;\">\n",
       "      <th></th>\n",
       "      <th>category</th>\n",
       "      <th>title</th>\n",
       "      <th>author</th>\n",
       "      <th>publication_date</th>\n",
       "      <th>rating</th>\n",
       "      <th>number_of_ratings</th>\n",
       "    </tr>\n",
       "  </thead>\n",
       "  <tbody>\n",
       "    <tr>\n",
       "      <th>0</th>\n",
       "      <td>Arts &amp; Photography</td>\n",
       "      <td>The 5 Love Languages: The Secret to Love that ...</td>\n",
       "      <td>Gary Chapman</td>\n",
       "      <td>2015-01-01</td>\n",
       "      <td>4.8</td>\n",
       "      <td>27397</td>\n",
       "    </tr>\n",
       "    <tr>\n",
       "      <th>1</th>\n",
       "      <td>Arts &amp; Photography</td>\n",
       "      <td>The Life-Changing Magic of Tidying Up: The Jap...</td>\n",
       "      <td>Marie Kondo</td>\n",
       "      <td>2014-10-14</td>\n",
       "      <td>4.5</td>\n",
       "      <td>23167</td>\n",
       "    </tr>\n",
       "    <tr>\n",
       "      <th>2</th>\n",
       "      <td>Arts &amp; Photography</td>\n",
       "      <td>Born a Crime: Stories from a South African Chi...</td>\n",
       "      <td>Trevor Noah</td>\n",
       "      <td>2016-11-15</td>\n",
       "      <td>4.8</td>\n",
       "      <td>20444</td>\n",
       "    </tr>\n",
       "    <tr>\n",
       "      <th>3</th>\n",
       "      <td>Arts &amp; Photography</td>\n",
       "      <td>Proof of Heaven: A Neurosurgeon's Journey into...</td>\n",
       "      <td>Eben Alexander</td>\n",
       "      <td>2012-10-23</td>\n",
       "      <td>4.3</td>\n",
       "      <td>13695</td>\n",
       "    </tr>\n",
       "    <tr>\n",
       "      <th>4</th>\n",
       "      <td>Arts &amp; Photography</td>\n",
       "      <td>Calm the F*ck Down: An Irreverent Adult Colori...</td>\n",
       "      <td>Sasha O'Hara</td>\n",
       "      <td>2016-01-06</td>\n",
       "      <td>4.6</td>\n",
       "      <td>11160</td>\n",
       "    </tr>\n",
       "  </tbody>\n",
       "</table>\n",
       "</div>"
      ],
      "text/plain": [
       "             category                                              title  \\\n",
       "0  Arts & Photography  The 5 Love Languages: The Secret to Love that ...   \n",
       "1  Arts & Photography  The Life-Changing Magic of Tidying Up: The Jap...   \n",
       "2  Arts & Photography  Born a Crime: Stories from a South African Chi...   \n",
       "3  Arts & Photography  Proof of Heaven: A Neurosurgeon's Journey into...   \n",
       "4  Arts & Photography  Calm the F*ck Down: An Irreverent Adult Colori...   \n",
       "\n",
       "           author publication_date  rating  number_of_ratings  \n",
       "0    Gary Chapman       2015-01-01     4.8              27397  \n",
       "1     Marie Kondo       2014-10-14     4.5              23167  \n",
       "2     Trevor Noah       2016-11-15     4.8              20444  \n",
       "3  Eben Alexander       2012-10-23     4.3              13695  \n",
       "4    Sasha O'Hara       2016-01-06     4.6              11160  "
      ]
     },
     "execution_count": 3,
     "metadata": {},
     "output_type": "execute_result"
    }
   ],
   "source": [
    "df1.head()"
   ]
  },
  {
   "cell_type": "code",
   "execution_count": 5,
   "metadata": {},
   "outputs": [
    {
     "data": {
      "text/plain": [
       "(1534, 6)"
      ]
     },
     "execution_count": 5,
     "metadata": {},
     "output_type": "execute_result"
    }
   ],
   "source": [
    "df1.shape"
   ]
  },
  {
   "cell_type": "code",
   "execution_count": 6,
   "metadata": {},
   "outputs": [
    {
     "data": {
      "text/html": [
       "<div>\n",
       "<style scoped>\n",
       "    .dataframe tbody tr th:only-of-type {\n",
       "        vertical-align: middle;\n",
       "    }\n",
       "\n",
       "    .dataframe tbody tr th {\n",
       "        vertical-align: top;\n",
       "    }\n",
       "\n",
       "    .dataframe thead th {\n",
       "        text-align: right;\n",
       "    }\n",
       "</style>\n",
       "<table border=\"1\" class=\"dataframe\">\n",
       "  <thead>\n",
       "    <tr style=\"text-align: right;\">\n",
       "      <th></th>\n",
       "      <th>rating</th>\n",
       "      <th>number_of_ratings</th>\n",
       "    </tr>\n",
       "  </thead>\n",
       "  <tbody>\n",
       "    <tr>\n",
       "      <th>count</th>\n",
       "      <td>1534.000000</td>\n",
       "      <td>1534.000000</td>\n",
       "    </tr>\n",
       "    <tr>\n",
       "      <th>mean</th>\n",
       "      <td>4.654533</td>\n",
       "      <td>11070.521512</td>\n",
       "    </tr>\n",
       "    <tr>\n",
       "      <th>std</th>\n",
       "      <td>0.144072</td>\n",
       "      <td>9652.938201</td>\n",
       "    </tr>\n",
       "    <tr>\n",
       "      <th>min</th>\n",
       "      <td>4.300000</td>\n",
       "      <td>821.000000</td>\n",
       "    </tr>\n",
       "    <tr>\n",
       "      <th>25%</th>\n",
       "      <td>4.600000</td>\n",
       "      <td>4602.500000</td>\n",
       "    </tr>\n",
       "    <tr>\n",
       "      <th>50%</th>\n",
       "      <td>4.700000</td>\n",
       "      <td>8723.000000</td>\n",
       "    </tr>\n",
       "    <tr>\n",
       "      <th>75%</th>\n",
       "      <td>4.800000</td>\n",
       "      <td>14107.000000</td>\n",
       "    </tr>\n",
       "    <tr>\n",
       "      <th>max</th>\n",
       "      <td>4.900000</td>\n",
       "      <td>96513.000000</td>\n",
       "    </tr>\n",
       "  </tbody>\n",
       "</table>\n",
       "</div>"
      ],
      "text/plain": [
       "            rating  number_of_ratings\n",
       "count  1534.000000        1534.000000\n",
       "mean      4.654533       11070.521512\n",
       "std       0.144072        9652.938201\n",
       "min       4.300000         821.000000\n",
       "25%       4.600000        4602.500000\n",
       "50%       4.700000        8723.000000\n",
       "75%       4.800000       14107.000000\n",
       "max       4.900000       96513.000000"
      ]
     },
     "execution_count": 6,
     "metadata": {},
     "output_type": "execute_result"
    }
   ],
   "source": [
    "df1.describe()"
   ]
  },
  {
   "cell_type": "code",
   "execution_count": 7,
   "metadata": {},
   "outputs": [
    {
     "data": {
      "text/plain": [
       "category              object\n",
       "title                 object\n",
       "author                object\n",
       "publication_date      object\n",
       "rating               float64\n",
       "number_of_ratings      int64\n",
       "dtype: object"
      ]
     },
     "execution_count": 7,
     "metadata": {},
     "output_type": "execute_result"
    }
   ],
   "source": [
    "df1.dtypes"
   ]
  },
  {
   "cell_type": "code",
   "execution_count": 9,
   "metadata": {},
   "outputs": [],
   "source": [
    "from datetime import datetime\n",
    "df1['publication_date']= df1['publication_date'].astype('datetime64[ns]')"
   ]
  },
  {
   "cell_type": "code",
   "execution_count": 10,
   "metadata": {},
   "outputs": [
    {
     "data": {
      "text/plain": [
       "category                     object\n",
       "title                        object\n",
       "author                       object\n",
       "publication_date     datetime64[ns]\n",
       "rating                      float64\n",
       "number_of_ratings             int64\n",
       "dtype: object"
      ]
     },
     "execution_count": 10,
     "metadata": {},
     "output_type": "execute_result"
    }
   ],
   "source": [
    "df1.dtypes"
   ]
  },
  {
   "cell_type": "code",
   "execution_count": 11,
   "metadata": {},
   "outputs": [
    {
     "data": {
      "text/html": [
       "<div>\n",
       "<style scoped>\n",
       "    .dataframe tbody tr th:only-of-type {\n",
       "        vertical-align: middle;\n",
       "    }\n",
       "\n",
       "    .dataframe tbody tr th {\n",
       "        vertical-align: top;\n",
       "    }\n",
       "\n",
       "    .dataframe thead th {\n",
       "        text-align: right;\n",
       "    }\n",
       "</style>\n",
       "<table border=\"1\" class=\"dataframe\">\n",
       "  <thead>\n",
       "    <tr style=\"text-align: right;\">\n",
       "      <th></th>\n",
       "      <th>category</th>\n",
       "      <th>title</th>\n",
       "      <th>author</th>\n",
       "      <th>publication_date</th>\n",
       "      <th>rating</th>\n",
       "      <th>number_of_ratings</th>\n",
       "    </tr>\n",
       "  </thead>\n",
       "  <tbody>\n",
       "    <tr>\n",
       "      <th>0</th>\n",
       "      <td>Arts &amp; Photography</td>\n",
       "      <td>The 5 Love Languages: The Secret to Love that ...</td>\n",
       "      <td>Gary Chapman</td>\n",
       "      <td>2015-01-01</td>\n",
       "      <td>4.8</td>\n",
       "      <td>27397</td>\n",
       "    </tr>\n",
       "    <tr>\n",
       "      <th>1</th>\n",
       "      <td>Arts &amp; Photography</td>\n",
       "      <td>The Life-Changing Magic of Tidying Up: The Jap...</td>\n",
       "      <td>Marie Kondo</td>\n",
       "      <td>2014-10-14</td>\n",
       "      <td>4.5</td>\n",
       "      <td>23167</td>\n",
       "    </tr>\n",
       "    <tr>\n",
       "      <th>2</th>\n",
       "      <td>Arts &amp; Photography</td>\n",
       "      <td>Born a Crime: Stories from a South African Chi...</td>\n",
       "      <td>Trevor Noah</td>\n",
       "      <td>2016-11-15</td>\n",
       "      <td>4.8</td>\n",
       "      <td>20444</td>\n",
       "    </tr>\n",
       "    <tr>\n",
       "      <th>3</th>\n",
       "      <td>Arts &amp; Photography</td>\n",
       "      <td>Proof of Heaven: A Neurosurgeon's Journey into...</td>\n",
       "      <td>Eben Alexander</td>\n",
       "      <td>2012-10-23</td>\n",
       "      <td>4.3</td>\n",
       "      <td>13695</td>\n",
       "    </tr>\n",
       "    <tr>\n",
       "      <th>4</th>\n",
       "      <td>Arts &amp; Photography</td>\n",
       "      <td>Calm the F*ck Down: An Irreverent Adult Colori...</td>\n",
       "      <td>Sasha O'Hara</td>\n",
       "      <td>2016-01-06</td>\n",
       "      <td>4.6</td>\n",
       "      <td>11160</td>\n",
       "    </tr>\n",
       "  </tbody>\n",
       "</table>\n",
       "</div>"
      ],
      "text/plain": [
       "             category                                              title  \\\n",
       "0  Arts & Photography  The 5 Love Languages: The Secret to Love that ...   \n",
       "1  Arts & Photography  The Life-Changing Magic of Tidying Up: The Jap...   \n",
       "2  Arts & Photography  Born a Crime: Stories from a South African Chi...   \n",
       "3  Arts & Photography  Proof of Heaven: A Neurosurgeon's Journey into...   \n",
       "4  Arts & Photography  Calm the F*ck Down: An Irreverent Adult Colori...   \n",
       "\n",
       "           author publication_date  rating  number_of_ratings  \n",
       "0    Gary Chapman       2015-01-01     4.8              27397  \n",
       "1     Marie Kondo       2014-10-14     4.5              23167  \n",
       "2     Trevor Noah       2016-11-15     4.8              20444  \n",
       "3  Eben Alexander       2012-10-23     4.3              13695  \n",
       "4    Sasha O'Hara       2016-01-06     4.6              11160  "
      ]
     },
     "execution_count": 11,
     "metadata": {},
     "output_type": "execute_result"
    }
   ],
   "source": [
    "df1.head()"
   ]
  },
  {
   "cell_type": "code",
   "execution_count": 16,
   "metadata": {},
   "outputs": [],
   "source": [
    "df = df1.loc[df1['publication_date'] <='2020']\n"
   ]
  },
  {
   "cell_type": "code",
   "execution_count": 17,
   "metadata": {},
   "outputs": [
    {
     "data": {
      "text/plain": [
       "(1441, 6)"
      ]
     },
     "execution_count": 17,
     "metadata": {},
     "output_type": "execute_result"
    }
   ],
   "source": [
    "df.shape"
   ]
  },
  {
   "cell_type": "code",
   "execution_count": 13,
   "metadata": {},
   "outputs": [
    {
     "data": {
      "text/plain": [
       "4.9"
      ]
     },
     "execution_count": 13,
     "metadata": {},
     "output_type": "execute_result"
    }
   ],
   "source": [
    "df1['rating'].max()"
   ]
  },
  {
   "cell_type": "code",
   "execution_count": 18,
   "metadata": {},
   "outputs": [
    {
     "data": {
      "text/html": [
       "<div>\n",
       "<style scoped>\n",
       "    .dataframe tbody tr th:only-of-type {\n",
       "        vertical-align: middle;\n",
       "    }\n",
       "\n",
       "    .dataframe tbody tr th {\n",
       "        vertical-align: top;\n",
       "    }\n",
       "\n",
       "    .dataframe thead th {\n",
       "        text-align: right;\n",
       "    }\n",
       "</style>\n",
       "<table border=\"1\" class=\"dataframe\">\n",
       "  <thead>\n",
       "    <tr style=\"text-align: right;\">\n",
       "      <th></th>\n",
       "      <th>category</th>\n",
       "      <th>title</th>\n",
       "      <th>author</th>\n",
       "      <th>publication_date</th>\n",
       "      <th>rating</th>\n",
       "      <th>number_of_ratings</th>\n",
       "    </tr>\n",
       "  </thead>\n",
       "  <tbody>\n",
       "    <tr>\n",
       "      <th>10</th>\n",
       "      <td>Arts &amp; Photography</td>\n",
       "      <td>Strange Planet</td>\n",
       "      <td>Nathan W. Pyle</td>\n",
       "      <td>2019-11-19</td>\n",
       "      <td>4.9</td>\n",
       "      <td>9879</td>\n",
       "    </tr>\n",
       "    <tr>\n",
       "      <th>51</th>\n",
       "      <td>Calendars</td>\n",
       "      <td>Thomas Kinkade Studios: Disney Dreams Collecti...</td>\n",
       "      <td>Thomas Kinkade</td>\n",
       "      <td>2019-05-28</td>\n",
       "      <td>4.9</td>\n",
       "      <td>2951</td>\n",
       "    </tr>\n",
       "    <tr>\n",
       "      <th>74</th>\n",
       "      <td>Children's Books</td>\n",
       "      <td>The Very Hungry Caterpillar</td>\n",
       "      <td>Eric Carle</td>\n",
       "      <td>1994-03-23</td>\n",
       "      <td>4.9</td>\n",
       "      <td>21323</td>\n",
       "    </tr>\n",
       "    <tr>\n",
       "      <th>75</th>\n",
       "      <td>Children's Books</td>\n",
       "      <td>The Very Hungry Caterpillar Giant Board Book a...</td>\n",
       "      <td>Eric Carle</td>\n",
       "      <td>2001-10-01</td>\n",
       "      <td>4.9</td>\n",
       "      <td>21323</td>\n",
       "    </tr>\n",
       "    <tr>\n",
       "      <th>76</th>\n",
       "      <td>Children's Books</td>\n",
       "      <td>Harry Potter and the Chamber of Secrets: The I...</td>\n",
       "      <td>J.K. Rowling</td>\n",
       "      <td>2016-10-04</td>\n",
       "      <td>4.9</td>\n",
       "      <td>20763</td>\n",
       "    </tr>\n",
       "    <tr>\n",
       "      <th>...</th>\n",
       "      <td>...</td>\n",
       "      <td>...</td>\n",
       "      <td>...</td>\n",
       "      <td>...</td>\n",
       "      <td>...</td>\n",
       "      <td>...</td>\n",
       "    </tr>\n",
       "    <tr>\n",
       "      <th>1357</th>\n",
       "      <td>Parenting &amp; Relationships</td>\n",
       "      <td>How to Babysit a Grandad</td>\n",
       "      <td>Jean Reagan</td>\n",
       "      <td>2013-09-05</td>\n",
       "      <td>4.9</td>\n",
       "      <td>4203</td>\n",
       "    </tr>\n",
       "    <tr>\n",
       "      <th>1386</th>\n",
       "      <td>Reference</td>\n",
       "      <td>Corduroy</td>\n",
       "      <td>Don Freeman</td>\n",
       "      <td>1976-09-30</td>\n",
       "      <td>4.9</td>\n",
       "      <td>4956</td>\n",
       "    </tr>\n",
       "    <tr>\n",
       "      <th>1403</th>\n",
       "      <td>Religion &amp; Spirituality</td>\n",
       "      <td>When God Made You</td>\n",
       "      <td>Matthew Paul Turner</td>\n",
       "      <td>2017-02-28</td>\n",
       "      <td>4.9</td>\n",
       "      <td>7674</td>\n",
       "    </tr>\n",
       "    <tr>\n",
       "      <th>1446</th>\n",
       "      <td>Science Fiction &amp; Fantasy</td>\n",
       "      <td>Strange Planet</td>\n",
       "      <td>J.R.R. Tolkien</td>\n",
       "      <td>2019-11-19</td>\n",
       "      <td>4.9</td>\n",
       "      <td>9881</td>\n",
       "    </tr>\n",
       "    <tr>\n",
       "      <th>1456</th>\n",
       "      <td>Self-Help</td>\n",
       "      <td>Strange Planet (Strange Planet Series)</td>\n",
       "      <td>Nathan W. Pyle</td>\n",
       "      <td>2019-11-19</td>\n",
       "      <td>4.9</td>\n",
       "      <td>9881</td>\n",
       "    </tr>\n",
       "  </tbody>\n",
       "</table>\n",
       "<p>79 rows × 6 columns</p>\n",
       "</div>"
      ],
      "text/plain": [
       "                       category  \\\n",
       "10           Arts & Photography   \n",
       "51                    Calendars   \n",
       "74             Children's Books   \n",
       "75             Children's Books   \n",
       "76             Children's Books   \n",
       "...                         ...   \n",
       "1357  Parenting & Relationships   \n",
       "1386                  Reference   \n",
       "1403    Religion & Spirituality   \n",
       "1446  Science Fiction & Fantasy   \n",
       "1456                  Self-Help   \n",
       "\n",
       "                                                  title               author  \\\n",
       "10                                       Strange Planet       Nathan W. Pyle   \n",
       "51    Thomas Kinkade Studios: Disney Dreams Collecti...       Thomas Kinkade   \n",
       "74                          The Very Hungry Caterpillar           Eric Carle   \n",
       "75    The Very Hungry Caterpillar Giant Board Book a...           Eric Carle   \n",
       "76    Harry Potter and the Chamber of Secrets: The I...         J.K. Rowling   \n",
       "...                                                 ...                  ...   \n",
       "1357                           How to Babysit a Grandad          Jean Reagan   \n",
       "1386                                           Corduroy          Don Freeman   \n",
       "1403                                  When God Made You  Matthew Paul Turner   \n",
       "1446                                     Strange Planet       J.R.R. Tolkien   \n",
       "1456             Strange Planet (Strange Planet Series)       Nathan W. Pyle   \n",
       "\n",
       "     publication_date  rating  number_of_ratings  \n",
       "10         2019-11-19     4.9               9879  \n",
       "51         2019-05-28     4.9               2951  \n",
       "74         1994-03-23     4.9              21323  \n",
       "75         2001-10-01     4.9              21323  \n",
       "76         2016-10-04     4.9              20763  \n",
       "...               ...     ...                ...  \n",
       "1357       2013-09-05     4.9               4203  \n",
       "1386       1976-09-30     4.9               4956  \n",
       "1403       2017-02-28     4.9               7674  \n",
       "1446       2019-11-19     4.9               9881  \n",
       "1456       2019-11-19     4.9               9881  \n",
       "\n",
       "[79 rows x 6 columns]"
      ]
     },
     "execution_count": 18,
     "metadata": {},
     "output_type": "execute_result"
    }
   ],
   "source": [
    "# Highest rated books\n",
    "df[df['rating']==4.9]"
   ]
  },
  {
   "cell_type": "code",
   "execution_count": 24,
   "metadata": {},
   "outputs": [
    {
     "data": {
      "text/plain": [
       "array(['Where the Crawdads Sing', 'The Girl on the Train', 'Becoming'],\n",
       "      dtype=object)"
      ]
     },
     "execution_count": 24,
     "metadata": {},
     "output_type": "execute_result"
    }
   ],
   "source": [
    "#most reviewed books\n",
    "df.sort_values('number_of_ratings', ascending = False).iloc[:5].title.unique()"
   ]
  },
  {
   "cell_type": "code",
   "execution_count": 44,
   "metadata": {},
   "outputs": [
    {
     "data": {
      "text/plain": [
       "<matplotlib.axes._subplots.AxesSubplot at 0x15a3d810c88>"
      ]
     },
     "execution_count": 44,
     "metadata": {},
     "output_type": "execute_result"
    },
    {
     "data": {
      "image/png": "[encoded data removed]",
      "text/plain": [
       "<Figure size 432x288 with 1 Axes>"
      ]
     },
     "metadata": {
      "needs_background": "light"
     },
     "output_type": "display_data"
    }
   ],
   "source": [
    "#categories with most reviews\n",
    "most_review = df.groupby('category')['number_of_ratings'].sum().to_frame().reset_index().sort_values('number_of_ratings', ascending = False).iloc[:5]\n",
    "most_review.sort_values('number_of_ratings').plot.barh(x = 'category', color = 'indigo')"
   ]
  },
  {
   "cell_type": "code",
   "execution_count": 47,
   "metadata": {},
   "outputs": [
    {
     "data": {
      "text/plain": [
       "<matplotlib.axes._subplots.AxesSubplot at 0x15a3b24f7c8>"
      ]
     },
     "execution_count": 47,
     "metadata": {},
     "output_type": "execute_result"
    },
    {
     "data": {
      "image/png": "[encoded data removed]",
      "text/plain": [
       "<Figure size 432x288 with 1 Axes>"
      ]
     },
     "metadata": {
      "needs_background": "light"
     },
     "output_type": "display_data"
    }
   ],
   "source": [
    "#categories with least reviews\n",
    "least_review = df.groupby('category')['number_of_ratings'].sum().to_frame().reset_index().sort_values('number_of_ratings').iloc[:5]\n",
    "least_review.sort_values('number_of_ratings').plot.barh(x = 'category', color = 'purple')"
   ]
  },
  {
   "cell_type": "code",
   "execution_count": 55,
   "metadata": {},
   "outputs": [
    {
     "data": {
      "text/html": [
       "<div>\n",
       "<style scoped>\n",
       "    .dataframe tbody tr th:only-of-type {\n",
       "        vertical-align: middle;\n",
       "    }\n",
       "\n",
       "    .dataframe tbody tr th {\n",
       "        vertical-align: top;\n",
       "    }\n",
       "\n",
       "    .dataframe thead th {\n",
       "        text-align: right;\n",
       "    }\n",
       "</style>\n",
       "<table border=\"1\" class=\"dataframe\">\n",
       "  <thead>\n",
       "    <tr style=\"text-align: right;\">\n",
       "      <th></th>\n",
       "      <th>category</th>\n",
       "      <th>rating</th>\n",
       "    </tr>\n",
       "  </thead>\n",
       "  <tbody>\n",
       "    <tr>\n",
       "      <th>0</th>\n",
       "      <td>Children's Books</td>\n",
       "      <td>4.785974</td>\n",
       "    </tr>\n",
       "    <tr>\n",
       "      <th>1</th>\n",
       "      <td>Calendars</td>\n",
       "      <td>4.736370</td>\n",
       "    </tr>\n",
       "    <tr>\n",
       "      <th>2</th>\n",
       "      <td>Humor &amp; Entertainment</td>\n",
       "      <td>4.710319</td>\n",
       "    </tr>\n",
       "    <tr>\n",
       "      <th>3</th>\n",
       "      <td>Education &amp; Teaching</td>\n",
       "      <td>4.695745</td>\n",
       "    </tr>\n",
       "    <tr>\n",
       "      <th>4</th>\n",
       "      <td>Religion &amp; Spirituality</td>\n",
       "      <td>4.693182</td>\n",
       "    </tr>\n",
       "    <tr>\n",
       "      <th>5</th>\n",
       "      <td>Christian Books &amp; Bibles</td>\n",
       "      <td>4.684444</td>\n",
       "    </tr>\n",
       "    <tr>\n",
       "      <th>6</th>\n",
       "      <td>Parenting &amp; Relationships</td>\n",
       "      <td>4.683800</td>\n",
       "    </tr>\n",
       "    <tr>\n",
       "      <th>7</th>\n",
       "      <td>Computers &amp; Technology</td>\n",
       "      <td>4.678927</td>\n",
       "    </tr>\n",
       "    <tr>\n",
       "      <th>8</th>\n",
       "      <td>Biographies &amp; Memoirs</td>\n",
       "      <td>4.671700</td>\n",
       "    </tr>\n",
       "    <tr>\n",
       "      <th>9</th>\n",
       "      <td>Reference</td>\n",
       "      <td>4.668949</td>\n",
       "    </tr>\n",
       "    <tr>\n",
       "      <th>10</th>\n",
       "      <td>Sports &amp; Outdoors</td>\n",
       "      <td>4.666127</td>\n",
       "    </tr>\n",
       "    <tr>\n",
       "      <th>11</th>\n",
       "      <td>Science Fiction &amp; Fantasy</td>\n",
       "      <td>4.658904</td>\n",
       "    </tr>\n",
       "    <tr>\n",
       "      <th>12</th>\n",
       "      <td>Comics &amp; Graphic Novels</td>\n",
       "      <td>4.656485</td>\n",
       "    </tr>\n",
       "    <tr>\n",
       "      <th>13</th>\n",
       "      <td>Politics &amp; Social Sciences</td>\n",
       "      <td>4.655791</td>\n",
       "    </tr>\n",
       "    <tr>\n",
       "      <th>14</th>\n",
       "      <td>Health, Fitness &amp; Dieting</td>\n",
       "      <td>4.655319</td>\n",
       "    </tr>\n",
       "    <tr>\n",
       "      <th>15</th>\n",
       "      <td>Teen &amp; Young Adult</td>\n",
       "      <td>4.652433</td>\n",
       "    </tr>\n",
       "    <tr>\n",
       "      <th>16</th>\n",
       "      <td>Law</td>\n",
       "      <td>4.651532</td>\n",
       "    </tr>\n",
       "    <tr>\n",
       "      <th>17</th>\n",
       "      <td>Self-Help</td>\n",
       "      <td>4.650000</td>\n",
       "    </tr>\n",
       "    <tr>\n",
       "      <th>18</th>\n",
       "      <td>History</td>\n",
       "      <td>4.646734</td>\n",
       "    </tr>\n",
       "    <tr>\n",
       "      <th>19</th>\n",
       "      <td>Business &amp; Money</td>\n",
       "      <td>4.646667</td>\n",
       "    </tr>\n",
       "    <tr>\n",
       "      <th>20</th>\n",
       "      <td>Medical Books</td>\n",
       "      <td>4.645860</td>\n",
       "    </tr>\n",
       "    <tr>\n",
       "      <th>21</th>\n",
       "      <td>Test Preparation</td>\n",
       "      <td>4.644891</td>\n",
       "    </tr>\n",
       "    <tr>\n",
       "      <th>22</th>\n",
       "      <td>Arts &amp; Photography</td>\n",
       "      <td>4.641860</td>\n",
       "    </tr>\n",
       "    <tr>\n",
       "      <th>23</th>\n",
       "      <td>Literature &amp; Fiction</td>\n",
       "      <td>4.627881</td>\n",
       "    </tr>\n",
       "    <tr>\n",
       "      <th>24</th>\n",
       "      <td>Engineering &amp; Transportation</td>\n",
       "      <td>4.626856</td>\n",
       "    </tr>\n",
       "    <tr>\n",
       "      <th>25</th>\n",
       "      <td>Science &amp; Math</td>\n",
       "      <td>4.625662</td>\n",
       "    </tr>\n",
       "    <tr>\n",
       "      <th>26</th>\n",
       "      <td>Crafts, Hobbies &amp; Home</td>\n",
       "      <td>4.614764</td>\n",
       "    </tr>\n",
       "    <tr>\n",
       "      <th>27</th>\n",
       "      <td>Lesbian, Gay, Bisexual &amp; Transgender Books</td>\n",
       "      <td>4.614121</td>\n",
       "    </tr>\n",
       "    <tr>\n",
       "      <th>28</th>\n",
       "      <td>Cookbooks, Food &amp; Wine</td>\n",
       "      <td>4.601218</td>\n",
       "    </tr>\n",
       "    <tr>\n",
       "      <th>29</th>\n",
       "      <td>Mystery, Thriller &amp; Suspense</td>\n",
       "      <td>4.583712</td>\n",
       "    </tr>\n",
       "    <tr>\n",
       "      <th>30</th>\n",
       "      <td>Travel</td>\n",
       "      <td>4.563854</td>\n",
       "    </tr>\n",
       "    <tr>\n",
       "      <th>31</th>\n",
       "      <td>Romance</td>\n",
       "      <td>4.556444</td>\n",
       "    </tr>\n",
       "  </tbody>\n",
       "</table>\n",
       "</div>"
      ],
      "text/plain": [
       "                                      category    rating\n",
       "0                             Children's Books  4.785974\n",
       "1                                    Calendars  4.736370\n",
       "2                        Humor & Entertainment  4.710319\n",
       "3                         Education & Teaching  4.695745\n",
       "4                      Religion & Spirituality  4.693182\n",
       "5                     Christian Books & Bibles  4.684444\n",
       "6                    Parenting & Relationships  4.683800\n",
       "7                       Computers & Technology  4.678927\n",
       "8                        Biographies & Memoirs  4.671700\n",
       "9                                    Reference  4.668949\n",
       "10                           Sports & Outdoors  4.666127\n",
       "11                   Science Fiction & Fantasy  4.658904\n",
       "12                     Comics & Graphic Novels  4.656485\n",
       "13                  Politics & Social Sciences  4.655791\n",
       "14                   Health, Fitness & Dieting  4.655319\n",
       "15                          Teen & Young Adult  4.652433\n",
       "16                                         Law  4.651532\n",
       "17                                   Self-Help  4.650000\n",
       "18                                     History  4.646734\n",
       "19                            Business & Money  4.646667\n",
       "20                               Medical Books  4.645860\n",
       "21                            Test Preparation  4.644891\n",
       "22                          Arts & Photography  4.641860\n",
       "23                        Literature & Fiction  4.627881\n",
       "24                Engineering & Transportation  4.626856\n",
       "25                              Science & Math  4.625662\n",
       "26                      Crafts, Hobbies & Home  4.614764\n",
       "27  Lesbian, Gay, Bisexual & Transgender Books  4.614121\n",
       "28                      Cookbooks, Food & Wine  4.601218\n",
       "29                Mystery, Thriller & Suspense  4.583712\n",
       "30                                      Travel  4.563854\n",
       "31                                     Romance  4.556444"
      ]
     },
     "execution_count": 55,
     "metadata": {},
     "output_type": "execute_result"
    }
   ],
   "source": [
    "df.groupby('category')['rating'].mean().to_frame().reset_index().sort_values('rating', ascending = False).reset_index(drop = True)"
   ]
  },
  {
   "cell_type": "code",
   "execution_count": null,
   "metadata": {},
   "outputs": [],
   "source": []
  }
 ],
 "metadata": {
  "kernelspec": {
   "display_name": "Python 3",
   "language": "python",
   "name": "python3"
  },
  "language_info": {
   "codemirror_mode": {
    "name": "ipython",
    "version": 3
   },
   "file_extension": ".py",
   "mimetype": "text/x-python",
   "name": "python",
   "nbconvert_exporter": "python",
   "pygments_lexer": "ipython3",
   "version": "3.7.6"
  }
 },
 "nbformat": 4,
 "nbformat_minor": 4
}
